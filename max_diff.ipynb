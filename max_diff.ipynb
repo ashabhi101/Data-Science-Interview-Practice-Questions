{
 "cells": [
  {
   "cell_type": "code",
   "execution_count": 1,
   "metadata": {},
   "outputs": [],
   "source": [
    "## take a user input and return the max difference element for each element"
   ]
  },
  {
   "cell_type": "code",
   "execution_count": 2,
   "metadata": {},
   "outputs": [
    {
     "name": "stdin",
     "output_type": "stream",
     "text": [
      " [1,2,4,6, -3,-9, -14]\n"
     ]
    },
    {
     "name": "stdout",
     "output_type": "stream",
     "text": [
      "-14 6\n",
      "-9 6\n",
      "-3 -14\n",
      "1 -14\n",
      "2 -14\n",
      "4 -14\n",
      "6 -14\n"
     ]
    }
   ],
   "source": [
    "ls = eval(input())\n",
    "ls = sorted(ls)\n",
    "for val in ls:\n",
    "    if abs(val-ls[0]) > abs(val - ls[len(ls)-1]):\n",
    "        print(val, ls[0])\n",
    "    else:\n",
    "        print(val, ls[len(ls)-1])"
   ]
  },
  {
   "cell_type": "markdown",
   "metadata": {},
   "source": [
    "Given a list of scrambled airplane tickets, each with a starting city and end city, reconstruct the path of the trip so the trip tickets are in order.\n",
    "\n",
    "input_cities = [\n",
    "    ['Chennai', 'Bangalore'], \n",
    "    ['Bombay', 'Delhi'], \n",
    "    ['Goa', 'Chennai'], \n",
    "    ['Delhi', 'Goa'], \n",
    "    ['Bangalore', 'Beijing']\n",
    "]\n",
    "\n",
    "\n",
    "output = [\n",
    "    ['Bombay', 'Delhi'], \n",
    "    ['Delhi', 'Goa'], \n",
    "    ['Goa', 'Chennai'], \n",
    "    ['Chennai', 'Bangalore'], \n",
    "    ['Bangalore', 'Beijing'],\n",
    "]"
   ]
  },
  {
   "cell_type": "code",
   "execution_count": 10,
   "metadata": {},
   "outputs": [],
   "source": [
    "first_city = [item[0] for item in input_cities]\n",
    "last_city = [item[1] for item in input_cities]\n",
    " "
   ]
  },
  {
   "cell_type": "code",
   "execution_count": 5,
   "metadata": {},
   "outputs": [],
   "source": [
    "start = list(set(first_city) - set(last_city))\n",
    "end = list(set(last_city) - set(first_city))"
   ]
  },
  {
   "cell_type": "code",
   "execution_count": 6,
   "metadata": {},
   "outputs": [],
   "source": [
    "output_cities = []"
   ]
  },
  {
   "cell_type": "code",
   "execution_count": 7,
   "metadata": {},
   "outputs": [],
   "source": [
    "output_cities = [item for item in input_cities if item[0] == start[0]] # Initiate the first one\n",
    "    "
   ]
  },
  {
   "cell_type": "code",
   "execution_count": 11,
   "metadata": {},
   "outputs": [],
   "source": [
    "i = 0\n",
    "while i <len(input_cities):\n",
    "    next_leg = [item for item in input_cities if item[0] == output_cities[-1][1]]  \n",
    "    output_cities.extend(next_leg)\n",
    "    i += 1\n",
    "    "
   ]
  },
  {
   "cell_type": "code",
   "execution_count": 12,
   "metadata": {},
   "outputs": [
    {
     "data": {
      "text/plain": [
       "[['Bombay', 'Delhi'],\n",
       " ['Delhi', 'Goa'],\n",
       " ['Goa', 'Chennai'],\n",
       " ['Chennai', 'Bangalore'],\n",
       " ['Bangalore', 'Beijing']]"
      ]
     },
     "execution_count": 12,
     "metadata": {},
     "output_type": "execute_result"
    }
   ],
   "source": [
    "output_cities"
   ]
  },
  {
   "cell_type": "code",
   "execution_count": null,
   "metadata": {},
   "outputs": [],
   "source": []
  }
 ],
 "metadata": {
  "kernelspec": {
   "display_name": "Python 3",
   "language": "python",
   "name": "python3"
  },
  "language_info": {
   "codemirror_mode": {
    "name": "ipython",
    "version": 3
   },
   "file_extension": ".py",
   "mimetype": "text/x-python",
   "name": "python",
   "nbconvert_exporter": "python",
   "pygments_lexer": "ipython3",
   "version": "3.6.12"
  }
 },
 "nbformat": 4,
 "nbformat_minor": 4
}
